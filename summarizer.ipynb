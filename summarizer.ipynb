{
  "cells": [
    {
      "metadata": {
        "_uuid": "8f2839f25d086af736a60e9eeb907d3b93b6e0e5",
        "_cell_guid": "b1076dfc-b9ad-4769-8c92-a6c4dae69d19",
        "trusted": true
      },
      "cell_type": "code",
      "source": "# This Python 3 environment comes with many helpful analytics libraries installed\n# It is defined by the kaggle/python docker image: https://github.com/kaggle/docker-python\n# For example, here's several helpful packages to load in \n\nimport numpy as np # linear algebra\nimport pandas as pd # data processing, CSV file I/O (e.g. pd.read_csv)\n\n# Input data files are available in the \"../input/\" directory.\n# For example, running this (by clicking run or pressing Shift+Enter) will list the files in the input directory\nimport tensorflow as tf\ntf.enable_eager_execution()\nimport time\nimport re\nimport string\nimport os\nprint(os.listdir(\"../input\"))\nimport matplotlib.pyplot as plt\n\n# Any results you write to the current directory are saved as output.",
      "execution_count": 48,
      "outputs": [
        {
          "output_type": "stream",
          "text": "['database.sqlite', 'hashes.txt', 'Reviews.csv']\n",
          "name": "stdout"
        }
      ]
    },
    {
      "metadata": {
        "_cell_guid": "79c7e3d0-c299-4dcb-8224-4455121ee9b0",
        "_uuid": "d629ff2d2480ee46fbb7e2d37f6b5fab8052498a",
        "trusted": true
      },
      "cell_type": "code",
      "source": "df = pd.read_csv('../input/Reviews.csv', delimiter = ',')\ndf.head()",
      "execution_count": 3,
      "outputs": [
        {
          "output_type": "execute_result",
          "execution_count": 3,
          "data": {
            "text/plain": "   Id                        ...                                                                       Text\n0   1                        ...                          I have bought several of the Vitality canned d...\n1   2                        ...                          Product arrived labeled as Jumbo Salted Peanut...\n2   3                        ...                          This is a confection that has been around a fe...\n3   4                        ...                          If you are looking for the secret ingredient i...\n4   5                        ...                          Great taffy at a great price.  There was a wid...\n\n[5 rows x 10 columns]",
            "text/html": "<div>\n<style scoped>\n    .dataframe tbody tr th:only-of-type {\n        vertical-align: middle;\n    }\n\n    .dataframe tbody tr th {\n        vertical-align: top;\n    }\n\n    .dataframe thead th {\n        text-align: right;\n    }\n</style>\n<table border=\"1\" class=\"dataframe\">\n  <thead>\n    <tr style=\"text-align: right;\">\n      <th></th>\n      <th>Id</th>\n      <th>ProductId</th>\n      <th>UserId</th>\n      <th>ProfileName</th>\n      <th>HelpfulnessNumerator</th>\n      <th>HelpfulnessDenominator</th>\n      <th>Score</th>\n      <th>Time</th>\n      <th>Summary</th>\n      <th>Text</th>\n    </tr>\n  </thead>\n  <tbody>\n    <tr>\n      <th>0</th>\n      <td>1</td>\n      <td>B001E4KFG0</td>\n      <td>A3SGXH7AUHU8GW</td>\n      <td>delmartian</td>\n      <td>1</td>\n      <td>1</td>\n      <td>5</td>\n      <td>1303862400</td>\n      <td>Good Quality Dog Food</td>\n      <td>I have bought several of the Vitality canned d...</td>\n    </tr>\n    <tr>\n      <th>1</th>\n      <td>2</td>\n      <td>B00813GRG4</td>\n      <td>A1D87F6ZCVE5NK</td>\n      <td>dll pa</td>\n      <td>0</td>\n      <td>0</td>\n      <td>1</td>\n      <td>1346976000</td>\n      <td>Not as Advertised</td>\n      <td>Product arrived labeled as Jumbo Salted Peanut...</td>\n    </tr>\n    <tr>\n      <th>2</th>\n      <td>3</td>\n      <td>B000LQOCH0</td>\n      <td>ABXLMWJIXXAIN</td>\n      <td>Natalia Corres \"Natalia Corres\"</td>\n      <td>1</td>\n      <td>1</td>\n      <td>4</td>\n      <td>1219017600</td>\n      <td>\"Delight\" says it all</td>\n      <td>This is a confection that has been around a fe...</td>\n    </tr>\n    <tr>\n      <th>3</th>\n      <td>4</td>\n      <td>B000UA0QIQ</td>\n      <td>A395BORC6FGVXV</td>\n      <td>Karl</td>\n      <td>3</td>\n      <td>3</td>\n      <td>2</td>\n      <td>1307923200</td>\n      <td>Cough Medicine</td>\n      <td>If you are looking for the secret ingredient i...</td>\n    </tr>\n    <tr>\n      <th>4</th>\n      <td>5</td>\n      <td>B006K2ZZ7K</td>\n      <td>A1UQRSCLF8GW1T</td>\n      <td>Michael D. Bigham \"M. Wassir\"</td>\n      <td>0</td>\n      <td>0</td>\n      <td>5</td>\n      <td>1350777600</td>\n      <td>Great taffy</td>\n      <td>Great taffy at a great price.  There was a wid...</td>\n    </tr>\n  </tbody>\n</table>\n</div>"
          },
          "metadata": {}
        }
      ]
    },
    {
      "metadata": {
        "trusted": true,
        "_uuid": "ab605c145c12323f8923b73ebf3ec34aa284555a"
      },
      "cell_type": "code",
      "source": "def preprocess_sentence(w):\n    w = w.lower().strip()\n    \n    # creating a space between a word and the punctuation following it\n    # eg: \"he is a boy.\" => \"he is a boy .\" \n    # Reference:- https://stackoverflow.com/questions/3645931/python-padding-punctuation-with-white-spaces-keeping-punctuation\n    w = re.sub(r\"([?.!,¿])\", r\" \\1 \", w)\n    w = re.sub(r'[\" \"]+', \" \", w)\n    \n    # replacing everything with space except (a-z, A-Z, \".\", \"?\", \"!\", \",\")\n    w = re.sub(r\"[^a-zA-Z?.!,¿]+\", \" \", w)\n    \n    w = w.rstrip().strip()\n    \n    # adding a start and an end token to the sentence\n    # so that the model know when to start and stop predicting.\n    w = '<start> ' + w + ' <end>'\n    return w\n\nclean_text = [preprocess_sentence(str(text)) for text in df['Text']]\nclean_summaries = [preprocess_sentence(str(text)) for text in df['Summary']]\n\n# 1. Remove the accents\n# 2. Clean the sentences\n# 3. Return word pairs in the format: [ENGLISH, SPANISH]\ndef create_dataset():    \n    word_pairs = [[text, summary]  for text, summary in zip(clean_text, clean_summaries)]\n    return word_pairs[:1000]\n\npairs = create_dataset()\npairs[:10]",
      "execution_count": 17,
      "outputs": [
        {
          "output_type": "execute_result",
          "execution_count": 17,
          "data": {
            "text/plain": "[['<start> i have bought several of the vitality canned dog food products and have found them all to be of good quality . the product looks more like a stew than a processed meat and it smells better . my labrador is finicky and she appreciates this product better than most . <end>',\n  '<start> good quality dog food <end>'],\n ['<start> product arrived labeled as jumbo salted peanuts . . . the peanuts were actually small sized unsalted . not sure if this was an error or if the vendor intended to represent the product as jumbo . <end>',\n  '<start> not as advertised <end>'],\n ['<start> this is a confection that has been around a few centuries . it is a light , pillowy citrus gelatin with nuts in this case filberts . and it is cut into tiny squares and then liberally coated with powdered sugar . and it is a tiny mouthful of heaven . not too chewy , and very flavorful . i highly recommend this yummy treat . if you are familiar with the story of c . s . lewis the lion , the witch , and the wardrobe this is the treat that seduces edmund into selling out his brother and sisters to the witch . <end>',\n  '<start> delight says it all <end>'],\n ['<start> if you are looking for the secret ingredient in robitussin i believe i have found it . i got this in addition to the root beer extract i ordered which was good and made some cherry soda . the flavor is very medicinal . <end>',\n  '<start> cough medicine <end>'],\n ['<start> great taffy at a great price . there was a wide assortment of yummy taffy . delivery was very quick . if your a taffy lover , this is a deal . <end>',\n  '<start> great taffy <end>'],\n ['<start> i got a wild hair for taffy and ordered this five pound bag . the taffy was all very enjoyable with many flavors watermelon , root beer , melon , peppermint , grape , etc . my only complaint is there was a bit too much red black licorice flavored pieces just not my particular favorites . between me , my kids , and my husband , this lasted only two weeks ! i would recommend this brand of taffy it was a delightful treat . <end>',\n  '<start> nice taffy <end>'],\n ['<start> this saltwater taffy had great flavors and was very soft and chewy . each candy was individually wrapped well . none of the candies were stuck together , which did happen in the expensive version , fralinger s . would highly recommend this candy ! i served it at a beach themed party and everyone loved it ! <end>',\n  '<start> great ! just as good as the expensive brands ! <end>'],\n ['<start> this taffy is so good . it is very soft and chewy . the flavors are amazing . i would definitely recommend you buying it . very satisfying ! ! <end>',\n  '<start> wonderful , tasty taffy <end>'],\n ['<start> right now i m mostly just sprouting this so my cats can eat the grass . they love it . i rotate it around with wheatgrass and rye too <end>',\n  '<start> yay barley <end>'],\n ['<start> this is a very healthy dog food . good for their digestion . also good for small puppies . my dog eats her required amount at every feeding . <end>',\n  '<start> healthy dog food <end>']]"
          },
          "metadata": {}
        }
      ]
    },
    {
      "metadata": {
        "trusted": true,
        "_uuid": "a6f9658291a76b5b509b07dc5779e2684297adae"
      },
      "cell_type": "code",
      "source": "# This class creates a word -> index mapping (e.g,. \"dad\" -> 5) and vice-versa \n# (e.g., 5 -> \"dad\") for each language,\nclass LanguageIndex():\n  def __init__(self, lang):\n    self.lang = lang\n    self.word2idx = {}\n    self.idx2word = {}\n    self.vocab = set()\n    \n    self.create_index()\n    \n  def create_index(self):\n    for phrase in self.lang:\n      self.vocab.update(phrase.split(' '))\n    \n    self.vocab = sorted(self.vocab)\n    \n    self.word2idx['<pad>'] = 0\n    for index, word in enumerate(self.vocab):\n      self.word2idx[word] = index + 1\n    \n    for word, index in self.word2idx.items():\n      self.idx2word[index] = word",
      "execution_count": 18,
      "outputs": []
    },
    {
      "metadata": {
        "trusted": true,
        "_uuid": "19e261c32c3b175ece3220595b3e89b0fd6d17ad"
      },
      "cell_type": "code",
      "source": "def max_length(tensor):\n    return max(len(t) for t in tensor)\n\n\ndef load_dataset():\n    # creating cleaned input, output pairs\n    pairs = create_dataset()\n\n    # index language using the class defined above    \n    inp_lang = LanguageIndex(text for text, summary in pairs)\n    targ_lang = LanguageIndex(summary for text, summary in pairs)\n    \n    # Vectorize the input and target languages\n    \n    # Spanish sentences\n    input_tensor = [[inp_lang.word2idx[s] for s in text.split(' ')] for text, summary in pairs]\n    \n    # English sentences\n    target_tensor = [[targ_lang.word2idx[s] for s in summary.split(' ')] for text, summary in pairs]\n    \n    # Calculate max_length of input and output tensor\n    # Here, we'll set those to the longest sentence in the dataset\n    max_length_inp, max_length_tar = max_length(input_tensor), max_length(target_tensor)\n    \n    # Padding the input and output tensor to the maximum length\n    input_tensor = tf.keras.preprocessing.sequence.pad_sequences(input_tensor, \n                                                                 maxlen=max_length_inp,\n                                                                 padding='post')\n    \n    target_tensor = tf.keras.preprocessing.sequence.pad_sequences(target_tensor, \n                                                                  maxlen=max_length_tar, \n                                                                  padding='post')\n    \n    return input_tensor, target_tensor, inp_lang, targ_lang, max_length_inp, max_length_tar",
      "execution_count": 19,
      "outputs": []
    },
    {
      "metadata": {
        "trusted": true,
        "_uuid": "abe9163bca1f0e7d285383277822c2962fc6fbab"
      },
      "cell_type": "code",
      "source": "input_tensor, target_tensor, inp_lang, targ_lang, max_length_inp, max_length_targ = load_dataset()",
      "execution_count": 20,
      "outputs": []
    },
    {
      "metadata": {
        "trusted": true,
        "_uuid": "2ffa42ff10115152259e1061c0ad7705aa2ab5a2"
      },
      "cell_type": "code",
      "source": "input_tensor",
      "execution_count": 21,
      "outputs": [
        {
          "output_type": "execute_result",
          "execution_count": 21,
          "data": {
            "text/plain": "array([[   5, 2522, 2354, ...,    0,    0,    0],\n       [   5, 3947,  277, ...,    0,    0,    0],\n       [   5, 5227, 2663, ...,    0,    0,    0],\n       ...,\n       [   5, 5227, 4399, ...,    0,    0,    0],\n       [   5, 3410, 2478, ...,    0,    0,    0],\n       [   5, 2522, 2354, ...,    0,    0,    0]], dtype=int32)"
          },
          "metadata": {}
        }
      ]
    },
    {
      "metadata": {
        "trusted": true,
        "_uuid": "80bab89207dc0cfca3001219dd7dbf4b6652c220"
      },
      "cell_type": "code",
      "source": "input_tensor.shape",
      "execution_count": 22,
      "outputs": [
        {
          "output_type": "execute_result",
          "execution_count": 22,
          "data": {
            "text/plain": "(1000, 1123)"
          },
          "metadata": {}
        }
      ]
    },
    {
      "metadata": {
        "trusted": true,
        "_uuid": "6f4d8bee8b19c4c11b2e4febd314557d7d47d126"
      },
      "cell_type": "code",
      "source": "max_length_inp",
      "execution_count": 23,
      "outputs": [
        {
          "output_type": "execute_result",
          "execution_count": 23,
          "data": {
            "text/plain": "1123"
          },
          "metadata": {}
        }
      ]
    },
    {
      "metadata": {
        "trusted": true,
        "_uuid": "37db315390c7812a532c9322b8397aa56d324b9b"
      },
      "cell_type": "code",
      "source": "max_length_targ",
      "execution_count": 24,
      "outputs": [
        {
          "output_type": "execute_result",
          "execution_count": 24,
          "data": {
            "text/plain": "56"
          },
          "metadata": {}
        }
      ]
    },
    {
      "metadata": {
        "trusted": true,
        "_uuid": "6abde09b37ae8fd269c1af45e753ae1ef557e904"
      },
      "cell_type": "code",
      "source": "from sklearn.model_selection import train_test_split\n\ninput_tensor_train, input_tensor_val, target_tensor_train, target_tensor_val = train_test_split(input_tensor, target_tensor, test_size=0.2)\n\n# Show length\nlen(input_tensor_train), len(target_tensor_train), len(input_tensor_val), len(target_tensor_val)",
      "execution_count": 25,
      "outputs": [
        {
          "output_type": "execute_result",
          "execution_count": 25,
          "data": {
            "text/plain": "(800, 800, 200, 200)"
          },
          "metadata": {}
        }
      ]
    },
    {
      "metadata": {
        "trusted": true,
        "_uuid": "7b26c1a52b8174c3adb777a75e3096796a338cd8"
      },
      "cell_type": "code",
      "source": "config = tf.ConfigProto(allow_soft_placement=True)\nconfig.gpu_options.allocator_type = 'BFC'\nconfig.gpu_options.per_process_gpu_memory_fraction = 0.80\n\nBUFFER_SIZE = len(input_tensor_train)\nBATCH_SIZE = 16\nN_BATCH = BUFFER_SIZE//BATCH_SIZE\nembedding_dim = 256\nunits = 256\nvocab_inp_size = len(inp_lang.word2idx)\nvocab_tar_size = len(targ_lang.word2idx)\n\ndataset = tf.data.Dataset.from_tensor_slices((input_tensor_train, target_tensor_train)).shuffle(BUFFER_SIZE)\ndataset = dataset.batch(BATCH_SIZE, drop_remainder=True)",
      "execution_count": 34,
      "outputs": []
    },
    {
      "metadata": {
        "trusted": true,
        "_uuid": "4a03b4a910f160e9b6430cdca2372488962028ce"
      },
      "cell_type": "code",
      "source": "def gru(units):\n  # If you have a GPU, we recommend using CuDNNGRU(provides a 3x speedup than GRU)\n  # the code automatically does that.\n  if tf.test.is_gpu_available():\n    return tf.keras.layers.CuDNNGRU(units, \n                                    return_sequences=True, \n                                    return_state=True, \n                                    recurrent_initializer='glorot_uniform')\n  else:\n    return tf.keras.layers.GRU(units, \n                               return_sequences=True, \n                               return_state=True, \n                               recurrent_activation='sigmoid', \n                               recurrent_initializer='glorot_uniform')",
      "execution_count": 35,
      "outputs": []
    },
    {
      "metadata": {
        "trusted": true,
        "_uuid": "c65946e1e54af5afa1fcdfd92a088e16bcf64686"
      },
      "cell_type": "code",
      "source": "\nclass Encoder(tf.keras.Model):\n    def __init__(self, vocab_size, embedding_dim, enc_units, batch_sz):\n        super(Encoder, self).__init__()\n        self.batch_sz = batch_sz\n        self.enc_units = enc_units\n        self.embedding = tf.keras.layers.Embedding(vocab_size, embedding_dim)\n        self.gru = gru(self.enc_units)\n        \n    def call(self, x, hidden):\n        x = self.embedding(x)\n        output, state = self.gru(x, initial_state = hidden)        \n        return output, state\n    \n    def initialize_hidden_state(self):\n        return tf.zeros((self.batch_sz, self.enc_units))",
      "execution_count": 36,
      "outputs": []
    },
    {
      "metadata": {
        "trusted": true,
        "_uuid": "3bbd229d7c1263172d937a7d7ce13c3c2aff5f79"
      },
      "cell_type": "code",
      "source": "class Decoder(tf.keras.Model):\n    def __init__(self, vocab_size, embedding_dim, dec_units, batch_sz):\n        super(Decoder, self).__init__()\n        self.batch_sz = batch_sz\n        self.dec_units = dec_units\n        self.embedding = tf.keras.layers.Embedding(vocab_size, embedding_dim)\n        self.gru = gru(self.dec_units)\n        self.fc = tf.keras.layers.Dense(vocab_size)\n        \n        # used for attention\n        self.W1 = tf.keras.layers.Dense(self.dec_units)\n        self.W2 = tf.keras.layers.Dense(self.dec_units)\n        self.V = tf.keras.layers.Dense(1)\n        \n    def call(self, x, hidden, enc_output):\n        # enc_output shape == (batch_size, max_length, hidden_size)\n        \n        # hidden shape == (batch_size, hidden size)\n        # hidden_with_time_axis shape == (batch_size, 1, hidden size)\n        # we are doing this to perform addition to calculate the score\n        hidden_with_time_axis = tf.expand_dims(hidden, 1)\n        \n        # score shape == (batch_size, max_length, hidden_size)\n        score = tf.nn.tanh(self.W1(enc_output) + self.W2(hidden_with_time_axis))\n        \n        # attention_weights shape == (batch_size, max_length, 1)\n        # we get 1 at the last axis because we are applying score to self.V\n        attention_weights = tf.nn.softmax(self.V(score), axis=1)\n        \n        # context_vector shape after sum == (batch_size, hidden_size)\n        context_vector = attention_weights * enc_output\n        context_vector = tf.reduce_sum(context_vector, axis=1)\n        \n        # x shape after passing through embedding == (batch_size, 1, embedding_dim)\n        x = self.embedding(x)\n        \n        # x shape after concatenation == (batch_size, 1, embedding_dim + hidden_size)\n        x = tf.concat([tf.expand_dims(context_vector, 1), x], axis=-1)\n        \n        # passing the concatenated vector to the GRU\n        output, state = self.gru(x)\n        \n        # output shape == (batch_size * 1, hidden_size)\n        output = tf.reshape(output, (-1, output.shape[2]))\n        \n        # output shape == (batch_size * 1, vocab)\n        x = self.fc(output)\n        \n        return x, state, attention_weights\n        \n    def initialize_hidden_state(self):\n        return tf.zeros((self.batch_sz, self.dec_units))",
      "execution_count": 37,
      "outputs": []
    },
    {
      "metadata": {
        "trusted": true,
        "_uuid": "a0a33b09fdcd431593ab1008336e8dbaccd37921"
      },
      "cell_type": "code",
      "source": "encoder = Encoder(vocab_inp_size, embedding_dim, units, BATCH_SIZE)\ndecoder = Decoder(vocab_tar_size, embedding_dim, units, BATCH_SIZE)",
      "execution_count": 38,
      "outputs": []
    },
    {
      "metadata": {
        "trusted": true,
        "_uuid": "d645de5a3bdbe85f20b604a1afca57b3e5bbda7f"
      },
      "cell_type": "code",
      "source": "optimizer = tf.train.AdamOptimizer()\n\n\ndef loss_function(real, pred):\n  mask = 1 - np.equal(real, 0)\n  loss_ = tf.nn.sparse_softmax_cross_entropy_with_logits(labels=real, logits=pred) * mask\n  return tf.reduce_mean(loss_)",
      "execution_count": 39,
      "outputs": []
    },
    {
      "metadata": {
        "trusted": true,
        "_uuid": "80c2a13ab9992ba80435a8235083615e5c156b3e"
      },
      "cell_type": "code",
      "source": "import os\ncheckpoint_dir = './training_checkpoints'\ncheckpoint_prefix = os.path.join(checkpoint_dir, \"ckpt\")\ncheckpoint = tf.train.Checkpoint(optimizer=optimizer,\n                                 encoder=encoder,\n                                 decoder=decoder)",
      "execution_count": 40,
      "outputs": []
    },
    {
      "metadata": {
        "trusted": true,
        "_uuid": "0608571b4f8d5cd156523986cc06fcdb6f22b448"
      },
      "cell_type": "code",
      "source": "EPOCHS = 10\n\nfor epoch in range(EPOCHS):\n    start = time.time()\n    \n    hidden = encoder.initialize_hidden_state()\n    total_loss = 0\n    \n    for (batch, (inp, targ)) in enumerate(dataset):\n        loss = 0\n        \n        with tf.GradientTape() as tape:\n            enc_output, enc_hidden = encoder(inp, hidden)\n            \n            dec_hidden = enc_hidden\n            \n            dec_input = tf.expand_dims([targ_lang.word2idx['<start>']] * BATCH_SIZE, 1)       \n            \n            # Teacher forcing - feeding the target as the next input\n            for t in range(1, targ.shape[1]):\n                # passing enc_output to the decoder\n                predictions, dec_hidden, _ = decoder(dec_input, dec_hidden, enc_output)\n                \n                loss += loss_function(targ[:, t], predictions)\n                \n                # using teacher forcing\n                dec_input = tf.expand_dims(targ[:, t], 1)\n        \n        batch_loss = (loss / int(targ.shape[1]))\n        \n        total_loss += batch_loss\n        \n        variables = encoder.variables + decoder.variables\n        \n        gradients = tape.gradient(loss, variables)\n        \n        optimizer.apply_gradients(zip(gradients, variables))\n        \n        if batch % 100 == 0:\n            print('Epoch {} Batch {} Loss {:.4f}'.format(epoch + 1,\n                                                         batch,\n                                                         batch_loss.numpy()))\n    # saving (checkpoint) the model every 2 epochs\n    if (epoch + 1) % 2 == 0:\n      checkpoint.save(file_prefix = checkpoint_prefix)\n    \n    print('Epoch {} Loss {:.4f}'.format(epoch + 1,\n                                        total_loss / N_BATCH))\n    print('Time taken for 1 epoch {} sec\\n'.format(time.time() - start))",
      "execution_count": 50,
      "outputs": [
        {
          "output_type": "stream",
          "text": "Epoch 1 Batch 0 Loss 0.3672\nEpoch 1 Loss 0.5307\nTime taken for 1 epoch 72.4614417552948 sec\n\nEpoch 2 Batch 0 Loss 0.4745\nEpoch 2 Loss 0.5057\nTime taken for 1 epoch 72.61180472373962 sec\n\nEpoch 3 Batch 0 Loss 0.4202\nEpoch 3 Loss 0.4869\nTime taken for 1 epoch 72.01322841644287 sec\n\nEpoch 4 Batch 0 Loss 0.4487\nEpoch 4 Loss 0.4727\nTime taken for 1 epoch 72.1374442577362 sec\n\nEpoch 5 Batch 0 Loss 0.2884\nEpoch 5 Loss 0.4598\nTime taken for 1 epoch 71.90825891494751 sec\n\nEpoch 6 Batch 0 Loss 0.4335\nEpoch 6 Loss 0.4432\nTime taken for 1 epoch 72.37527394294739 sec\n\nEpoch 7 Batch 0 Loss 0.6162\nEpoch 7 Loss 0.4292\nTime taken for 1 epoch 72.12824058532715 sec\n\nEpoch 8 Batch 0 Loss 0.5227\nEpoch 8 Loss 0.4122\nTime taken for 1 epoch 72.04292917251587 sec\n\nEpoch 9 Batch 0 Loss 0.3677\nEpoch 9 Loss 0.3947\nTime taken for 1 epoch 71.8166389465332 sec\n\nEpoch 10 Batch 0 Loss 0.3225\nEpoch 10 Loss 0.3772\nTime taken for 1 epoch 72.27637434005737 sec\n\n",
          "name": "stdout"
        }
      ]
    },
    {
      "metadata": {
        "trusted": true,
        "_uuid": "23c64cf33687af7fd3b71c1263f0161efe7d1012"
      },
      "cell_type": "code",
      "source": "def evaluate(sentence, encoder, decoder, inp_lang, targ_lang, max_length_inp, max_length_targ):\n    attention_plot = np.zeros((max_length_targ, max_length_inp))\n    \n    sentence = preprocess_sentence(sentence)\n\n    inputs = [inp_lang.word2idx[i] for i in sentence.split(' ')]\n    inputs = tf.keras.preprocessing.sequence.pad_sequences([inputs], maxlen=max_length_inp, padding='post')\n    inputs = tf.convert_to_tensor(inputs)\n    \n    result = ''\n\n    hidden = [tf.zeros((1, units))]\n    enc_out, enc_hidden = encoder(inputs, hidden)\n\n    dec_hidden = enc_hidden\n    dec_input = tf.expand_dims([targ_lang.word2idx['<start>']], 0)\n\n    for t in range(max_length_targ):\n        predictions, dec_hidden, attention_weights = decoder(dec_input, dec_hidden, enc_out)\n        \n        # storing the attention weigths to plot later on\n        attention_weights = tf.reshape(attention_weights, (-1, ))\n        attention_plot[t] = attention_weights.numpy()\n\n        predicted_id = tf.multinomial(predictions, num_samples=1)[0][0].numpy()\n\n        result += targ_lang.idx2word[predicted_id] + ' '\n\n        if targ_lang.idx2word[predicted_id] == '<end>':\n            return result, sentence, attention_plot\n        \n        # the predicted ID is fed back into the model\n        dec_input = tf.expand_dims([predicted_id], 0)\n\n    return result, sentence, attention_plot",
      "execution_count": 51,
      "outputs": []
    },
    {
      "metadata": {
        "trusted": true,
        "_uuid": "7b56fcff94e5165c10493742f206b5bdb912c0af"
      },
      "cell_type": "code",
      "source": "# function for plotting the attention weights\ndef plot_attention(attention, sentence, predicted_sentence):\n    fig = plt.figure(figsize=(10,10))\n    ax = fig.add_subplot(1, 1, 1)\n    ax.matshow(attention, cmap='viridis')\n    \n    fontdict = {'fontsize': 14}\n    \n    ax.set_xticklabels([''] + sentence, fontdict=fontdict, rotation=90)\n    ax.set_yticklabels([''] + predicted_sentence, fontdict=fontdict)\n\n    plt.show()",
      "execution_count": 52,
      "outputs": []
    },
    {
      "metadata": {
        "trusted": true,
        "_uuid": "d1f91425c6ddd6179f54eb7cf981723b2aa42a82"
      },
      "cell_type": "code",
      "source": "def summarize(sentence, encoder, decoder, inp_lang, targ_lang, max_length_inp, max_length_targ):\n    result, sentence, attention_plot = evaluate(sentence, encoder, decoder, inp_lang, targ_lang, max_length_inp, max_length_targ)\n        \n    print('Input: {}'.format(sentence))\n    print(': {}'.format(result))\n    \n    attention_plot = attention_plot[:len(result.split(' ')), :len(sentence.split(' '))]\n    plot_attention(attention_plot, sentence.split(' '), result.split(' '))\n    return result",
      "execution_count": 53,
      "outputs": []
    },
    {
      "metadata": {
        "trusted": true,
        "_uuid": "430baf4b8899d5e9def9b5a52ee296f81f8ef782"
      },
      "cell_type": "code",
      "source": "summarize('this is a very healthy dog food . good for their digestion . also good for small puppies . my dog eats her required amount at every feeding',\n          encoder, \n          decoder, \n          inp_lang, \n          targ_lang, \n          max_length_inp, \n          max_length_targ)\n",
      "execution_count": 56,
      "outputs": [
        {
          "output_type": "stream",
          "text": "Input: <start> this is a very healthy dog food . good for their digestion . also good for small puppies . my dog eats her required amount at every feeding <end>\n: love too <end> \n",
          "name": "stdout"
        },
        {
          "output_type": "display_data",
          "data": {
            "text/plain": "<Figure size 720x720 with 1 Axes>",
            "image/png": "[encoded data removed]"
          },
          "metadata": {}
        },
        {
          "output_type": "execute_result",
          "execution_count": 56,
          "data": {
            "text/plain": "'love too <end> '"
          },
          "metadata": {}
        }
      ]
    },
    {
      "metadata": {
        "trusted": true,
        "_uuid": "a0132ad019d22efa309ff50acf5630a27ab75d72"
      },
      "cell_type": "code",
      "source": "",
      "execution_count": null,
      "outputs": []
    }
  ],
  "metadata": {
    "kernelspec": {
      "display_name": "Python 3",
      "language": "python",
      "name": "python3"
    },
    "language_info": {
      "name": "python",
      "version": "3.6.6",
      "mimetype": "text/x-python",
      "codemirror_mode": {
        "name": "ipython",
        "version": 3
      },
      "pygments_lexer": "ipython3",
      "nbconvert_exporter": "python",
      "file_extension": ".py"
    }
  },
  "nbformat": 4,
  "nbformat_minor": 1
}